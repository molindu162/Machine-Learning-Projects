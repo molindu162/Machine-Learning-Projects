{
  "cells": [
    {
      "cell_type": "markdown",
      "source": [
        "##Problem Statement\n",
        "Suppose you are starting a company that grows and sells wild mushrooms. \n",
        "- Since not all mushrooms are edible, you'd like to be able to tell whether a given mushroom is edible or poisonous based on it's physical attributes\n",
        "- You have some existing data that you can use for this task. \n",
        "\n",
        "Can you use the data to help you identify which mushrooms can be sold safely? \n",
        "\n",
        "Note: The dataset used is for illustrative purposes only. It is not meant to be a guide on identifying edible mushrooms.\n",
        "\n",
        "\n",
        "\n",
        "<a name=\"3\"></a>\n",
        "## Dataset\n",
        "\n",
        "You will start by loading the dataset for this task. The dataset you have collected is as follows:\n",
        "\n",
        "|                                                     | Cap Color | Stalk Shape | Solitary | Edible |\n",
        "|:---------------------------------------------------:|:---------:|:-----------:|:--------:|:------:|\n",
        "| 00 |   Brown   |   Tapering  |    Yes   |    1   |\n",
        "| 01 |   Brown   |  Enlarging  |    Yes   |    1   |\n",
        "| 02 |   Brown   |  Enlarging  |    No    |    0   |\n",
        "| 03 |   Brown   |  Enlarging  |    No    |    0   |\n",
        "| 04 |   Brown   |   Tapering  |    Yes   |    1   |\n",
        "| 05 |    Red    |   Tapering  |    Yes   |    0   |\n",
        "| 06 |    Red    |  Enlarging  |    No    |    0   |\n",
        "| 07 |   Brown   |  Enlarging  |    Yes   |    1   |\n",
        "| 08 |    Red    |   Tapering  |    No    |    1   |\n",
        "| 09 |   Brown   |  Enlarging  |    No    |    0   |\n",
        "\n",
        "\n",
        "-  You have 10 examples of mushrooms. For each example, you have\n",
        "    - Three features\n",
        "        - Cap Color (`Brown` or `Red`),\n",
        "        - Stalk Shape (`Tapering (as in \\/)` or `Enlarging (as in /\\)`), and\n",
        "        - Solitary (`Yes` or `No`)\n",
        "    - Label\n",
        "        - Edible (`1` indicating yes or `0` indicating poisonous)\n",
        "\n",
        "<a name=\"3.1\"></a>\n",
        "###One hot encoded dataset\n",
        "For ease of implementation, we have one-hot encoded the features (turned them into 0 or 1 valued features)\n",
        "\n",
        "|                                                    | Brown Cap | Tapering Stalk Shape | Solitary | Edible |\n",
        "|:--------------------------------------------------:|:---------:|:--------------------:|:--------:|:------:|\n",
        "| 00 |     1     |           1          |     1    |    1   |\n",
        "| 01 |     1     |           0          |     1    |    1   |\n",
        "| 02 |     1     |           0          |     0    |    0   |\n",
        "| 03 |     1     |           0          |     0    |    0   |\n",
        "| 04 |     1     |           1          |     1    |    1   |\n",
        "| 05 |     0     |           1          |     1    |    0   |\n",
        "| 06 |     0     |           0          |     0    |    0   |\n",
        "| 07 |     1     |           0          |     1    |    1   |\n",
        "| 08 |     0     |           1          |     0    |    1   |\n",
        "| 09 |     1     |           0          |     0    |    0   |\n",
        "\n",
        "\n",
        "Therefore,\n",
        "- `X_train` contains three features for each example \n",
        "    - Brown Color (A value of `1` indicates \"Brown\" cap color and `0` indicates \"Red\" cap color)\n",
        "    - Tapering Shape (A value of `1` indicates \"Tapering Stalk Shape\" and `0` indicates \"Enlarging\" stalk shape)\n",
        "    - Solitary  (A value of `1` indicates \"Yes\" and `0` indicates \"No\")\n",
        "\n",
        "- `y_train` is whether the mushroom is edible \n",
        "    - `y = 1` indicates edible\n",
        "    - `y = 0` indicates poisonous"
      ],
      "metadata": {
        "id": "MamHikM84OL7"
      },
      "id": "MamHikM84OL7"
    },
    {
      "cell_type": "code",
      "execution_count": 1,
      "id": "94a140e1",
      "metadata": {
        "id": "94a140e1"
      },
      "outputs": [],
      "source": [
        "## import nessasary libraries\n",
        "import matplotlib.pyplot as plt\n",
        "%matplotlib inline\n",
        "import numpy as np"
      ]
    },
    {
      "cell_type": "code",
      "execution_count": 2,
      "id": "d3a87340",
      "metadata": {
        "id": "d3a87340"
      },
      "outputs": [],
      "source": [
        "## Define training sets x and y\n",
        "X_train = np.array([[1,1,1],[1,0,1],[1,0,0],[1,0,0],[1,1,1],[0,1,1],[0,0,0],[1,0,1],[0,1,0],[1,0,0]])\n",
        "y_train = np.array([1,1,0,0,1,0,0,1,1,0])"
      ]
    },
    {
      "cell_type": "code",
      "execution_count": 3,
      "id": "1e07bdb0",
      "metadata": {
        "id": "1e07bdb0"
      },
      "outputs": [],
      "source": [
        "# Calculate Entropy\n",
        "def compute_entropy(y):\n",
        "  '''\n",
        "  y(ndarray): array that contains whether eatable mushroom or not in the considered node\n",
        "  returns: a measurement of the impurity of that node\n",
        "  '''\n",
        "  y_positives = sum(y)\n",
        "  if (len(y) != 0):\n",
        "    y_ = y_positives / len(y)\n",
        "    if (y_ == 0 or y_ == 1):\n",
        "      return 0\n",
        "    else:\n",
        "      return -y_ * np.log2(y_) - (1 - y_) * np.log2(1 - y_)\n",
        "  return 0"
      ]
    },
    {
      "cell_type": "code",
      "source": [
        "# Split the data\n",
        "def split_data(X, y, node_indices, feature):\n",
        "  '''\n",
        "  returns: split the data in the current node left and right according to considered feature\n",
        "  '''\n",
        "  left_indices = []\n",
        "  right_indices = []\n",
        "  for indice in node_indices:\n",
        "    if (X[indice][feature] == 1):\n",
        "      left_indices.append(indice)\n",
        "    else:\n",
        "      right_indices.append(indice)\n",
        "\n",
        "  return left_indices, right_indices"
      ],
      "metadata": {
        "id": "JZ9sva_PoYoY"
      },
      "id": "JZ9sva_PoYoY",
      "execution_count": 4,
      "outputs": []
    },
    {
      "cell_type": "code",
      "source": [
        "# Calculate information gain \n",
        "def compute_information_gain(X, y, node_indices, feature):\n",
        "  '''\n",
        "  X(ndarray): X training set\n",
        "  y(ndarray): y training set || edible (`1`) or poisonous (`0`)\n",
        "  node_iindices(ndarray): subset of X_train that contains only mushrooms related to the current node\n",
        "  feature(int): feature to split on\n",
        "  \n",
        "  returns: information gain which means the difference between the impurity of the parent node and the average impurity of its left and right nodes\n",
        "  '''\n",
        "  left_indices, right_indices = split_data(X, y, node_indices, feature)\n",
        "\n",
        "  w_left = len(left_indices) / len(node_indices)\n",
        "  w_right = len(right_indices) / len(node_indices)\n",
        "\n",
        "  y_node = y[node_indices]\n",
        "  y_left = y[left_indices]\n",
        "  y_right = y[right_indices]\n",
        "\n",
        "  node_entropy = compute_entropy(y_node)\n",
        "  weighted_entropy = w_left * compute_entropy(y_left) + w_right * compute_entropy(y_right)\n",
        "\n",
        "  return node_entropy - weighted_entropy"
      ],
      "metadata": {
        "id": "dllU9Sm_rVh6"
      },
      "id": "dllU9Sm_rVh6",
      "execution_count": 5,
      "outputs": []
    },
    {
      "cell_type": "code",
      "source": [
        "## Checking the compute_information_gain function properly works or not\n",
        "root_indices = [0, 1, 2, 3, 4, 5, 6, 7, 8, 9]\n",
        "\n",
        "info_gain0 = compute_information_gain(X_train, y_train, root_indices, feature=0)\n",
        "print(\"Information Gain from splitting the root on brown cap: \", info_gain0)\n",
        "\n",
        "info_gain1 = compute_information_gain(X_train, y_train, root_indices, feature=1)\n",
        "print(\"Information Gain from splitting the root on tapering stalk shape: \", info_gain1)\n",
        "\n",
        "info_gain2 = compute_information_gain(X_train, y_train, root_indices, feature=2)\n",
        "print(\"Information Gain from splitting the root on solitary: \", info_gain2)"
      ],
      "metadata": {
        "colab": {
          "base_uri": "https://localhost:8080/"
        },
        "id": "ZkXqEJL2rkPF",
        "outputId": "fe6752ed-5cba-4f05-cedf-71aeb8e0c608"
      },
      "id": "ZkXqEJL2rkPF",
      "execution_count": 6,
      "outputs": [
        {
          "output_type": "stream",
          "name": "stdout",
          "text": [
            "Information Gain from splitting the root on brown cap:  0.034851554559677034\n",
            "Information Gain from splitting the root on tapering stalk shape:  0.12451124978365313\n",
            "Information Gain from splitting the root on solitary:  0.2780719051126377\n"
          ]
        }
      ]
    },
    {
      "cell_type": "code",
      "source": [
        "def get_best_split(X, y, node_indices):\n",
        "  '''\n",
        "  X(ndarray): X training set\n",
        "  y(ndarray): y training set || edible (`1`) or poisonous (`0`)\n",
        "  node_iindices(ndarray): subset of X_train that contains only mushrooms related to the current node\n",
        "\n",
        "  returns: what is the best feature to split on data in current node\n",
        "  '''\n",
        "  num_features = X.shape[1]\n",
        "  best_feature = -1\n",
        "  max_info_gain = 0\n",
        "\n",
        "  for i in range(num_features):\n",
        "    info_gain = compute_information_gain(X, y, node_indices, i)\n",
        "    if (info_gain > max_info_gain):\n",
        "      max_info_gain = info_gain\n",
        "      best_feature = i\n",
        "  \n",
        "  return best_feature"
      ],
      "metadata": {
        "id": "4iBrsVGhwNjs"
      },
      "id": "4iBrsVGhwNjs",
      "execution_count": 7,
      "outputs": []
    },
    {
      "cell_type": "code",
      "source": [
        "## Checking get_best_split function properly works or not\n",
        "best_feature = get_best_split(X_train, y_train, root_indices)\n",
        "print(\"Best feature to split on: %d\" % best_feature)"
      ],
      "metadata": {
        "colab": {
          "base_uri": "https://localhost:8080/"
        },
        "id": "IsNqrnt4z-zF",
        "outputId": "3051e3af-239b-42b2-8819-763a8ba7c020"
      },
      "id": "IsNqrnt4z-zF",
      "execution_count": 8,
      "outputs": [
        {
          "output_type": "stream",
          "name": "stdout",
          "text": [
            "Best feature to split on: 2\n"
          ]
        }
      ]
    },
    {
      "cell_type": "code",
      "source": [
        "def build_tree(X, y, node_indices, max_depth, current_depth=0):\n",
        "  '''\n",
        "  X(ndarray): X training set\n",
        "  y(ndarray): y training set || edible (`1`) or poisonous (`0`)\n",
        "  node_iindices(ndarray): subset of X_train that contains only mushrooms related to the current node\n",
        "  max_depth(int): maximum depth that stops spliting\n",
        "  current(depth): current depth\n",
        "\n",
        "  build the decision tree recursivey\n",
        "  '''\n",
        "  if (current_depth >= max_depth):\n",
        "    return;\n",
        "  \n",
        "  best_feature = get_best_split(X, y, node_indices)\n",
        "  print(f\"depth {current_depth}-> feature: {best_feature}\")\n",
        "\n",
        "  left_indices, right_indices = split_data(X, y, node_indices, best_feature)\n",
        "  print(f\"  --left: \" + str(left_indices))\n",
        "  print(f\"  --right: \" + str(right_indices))\n",
        "  build_tree(X, y, left_indices, max_depth, current_depth+1)\n",
        "  build_tree(X, y, right_indices, max_depth, current_depth+1)"
      ],
      "metadata": {
        "id": "4t94ShU52Swt"
      },
      "id": "4t94ShU52Swt",
      "execution_count": 9,
      "outputs": []
    },
    {
      "cell_type": "code",
      "source": [
        "## Print the decision tree\n",
        "build_tree(X_train, y_train, root_indices, max_depth=2, current_depth=0)"
      ],
      "metadata": {
        "colab": {
          "base_uri": "https://localhost:8080/"
        },
        "id": "RAFS4OKQ8HEg",
        "outputId": "8caf279f-b506-43d1-8e10-e7112775e865"
      },
      "id": "RAFS4OKQ8HEg",
      "execution_count": 10,
      "outputs": [
        {
          "output_type": "stream",
          "name": "stdout",
          "text": [
            "depth 0-> feature: 2\n",
            "  --left: [0, 1, 4, 5, 7]\n",
            "  --right: [2, 3, 6, 8, 9]\n",
            "depth 1-> feature: 0\n",
            "  --left: [0, 1, 4, 7]\n",
            "  --right: [5]\n",
            "depth 1-> feature: 1\n",
            "  --left: [8]\n",
            "  --right: [2, 3, 6, 9]\n"
          ]
        }
      ]
    }
  ],
  "metadata": {
    "kernelspec": {
      "display_name": "Python 3 (tensorflow)",
      "language": "python",
      "name": "tensorflow"
    },
    "language_info": {
      "codemirror_mode": {
        "name": "ipython",
        "version": 3
      },
      "file_extension": ".py",
      "mimetype": "text/x-python",
      "name": "python",
      "nbconvert_exporter": "python",
      "pygments_lexer": "ipython3",
      "version": "3.10.9"
    },
    "colab": {
      "provenance": []
    }
  },
  "nbformat": 4,
  "nbformat_minor": 5
}